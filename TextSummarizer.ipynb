{
  "nbformat": 4,
  "nbformat_minor": 0,
  "metadata": {
    "colab": {
      "name": "TextSummarizer.ipynb",
      "provenance": [],
      "collapsed_sections": []
    },
    "kernelspec": {
      "name": "python3",
      "display_name": "Python 3"
    },
    "language_info": {
      "name": "python"
    },
    "accelerator": "TPU"
  },
  "cells": [
    {
      "cell_type": "code",
      "metadata": {
        "id": "L2ISEDj0II5-"
      },
      "source": [
        "!pip install langdetect\n",
        "!pip install transformers\n",
        "!pip install simpletransformers"
      ],
      "execution_count": null,
      "outputs": []
    },
    {
      "cell_type": "code",
      "metadata": {
        "id": "gZeZMFcDH4r6"
      },
      "source": [
        "import numpy as np\n",
        "from transformers import GPT2Model, GPT2Config, BigBirdConfig, BigBirdModel\n",
        "from simpletransformers.classification import ClassificationModel\n"
      ],
      "execution_count": 31,
      "outputs": []
    },
    {
      "cell_type": "code",
      "metadata": {
        "id": "oS3zF9TSID8c"
      },
      "source": [
        "configuration = GPT2Config()\n",
        "# Initializing a model from the configuration\n",
        "model = GPT2Model(configuration)\n",
        "# Accessing the model configuration\n",
        "configuration = model.config"
      ],
      "execution_count": 3,
      "outputs": []
    },
    {
      "cell_type": "code",
      "metadata": {
        "id": "tOc-c1P_IykZ"
      },
      "source": [
        "with open(\"wiki.full.aner.ori.train.src\") as f:\n",
        "  wikilarge_x = np.array(f.read().splitlines())\n",
        "with open(\"wiki.full.aner.ori.train.dst\") as f:\n",
        "  wikilarge_y = np.array(f.read().splitlines())"
      ],
      "execution_count": 23,
      "outputs": []
    },
    {
      "cell_type": "code",
      "metadata": {
        "id": "5wSxKzmUNMBq"
      },
      "source": [
        "with open(\"wiki.full.aner.ori.test.src\") as f:\n",
        "  wikilarge_test_x = np.array(f.read().splitlines())\n",
        "with open(\"wiki.full.aner.ori.test.dst\") as f:\n",
        "  wikilarge_test_y= np.array(f.read().splitlines())"
      ],
      "execution_count": 24,
      "outputs": []
    },
    {
      "cell_type": "code",
      "metadata": {
        "id": "OdeddnA9NL4a"
      },
      "source": [
        ""
      ],
      "execution_count": 26,
      "outputs": []
    }
  ]
}